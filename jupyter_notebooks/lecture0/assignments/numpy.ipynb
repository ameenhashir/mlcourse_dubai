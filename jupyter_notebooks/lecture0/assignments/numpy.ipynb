{
 "cells": [
  {
   "cell_type": "markdown",
   "metadata": {},
   "source": [
    "# Numpy\n",
    "- based on https://github.com/mephistopheies/mlworkshop39_042017/blob/master/0_python_intro/%D0%A3%D0%BF%D1%80%D0%B0%D0%B6%D0%BD%D0%B5%D0%BD%D0%B8%D1%8F.ipynb\n",
    "\n",
    "<img src=\"trainings1.jpg\" />"
   ]
  },
  {
   "cell_type": "markdown",
   "metadata": {},
   "source": [
    "## Task 0\n",
    "- import numpy"
   ]
  },
  {
   "cell_type": "code",
   "execution_count": 2,
   "metadata": {},
   "outputs": [],
   "source": [
    "import numpy as np"
   ]
  },
  {
   "cell_type": "markdown",
   "metadata": {},
   "source": [
    "## Task 1\n",
    "- print version of numpy"
   ]
  },
  {
   "cell_type": "code",
   "execution_count": 3,
   "metadata": {},
   "outputs": [
    {
     "data": {
      "text/plain": [
       "'1.18.1'"
      ]
     },
     "execution_count": 3,
     "metadata": {},
     "output_type": "execute_result"
    }
   ],
   "source": [
    "np.version.version"
   ]
  },
  {
   "cell_type": "markdown",
   "metadata": {},
   "source": [
    "## Task 2\n",
    "- create 1d vector of zeros of size 10"
   ]
  },
  {
   "cell_type": "code",
   "execution_count": 4,
   "metadata": {},
   "outputs": [
    {
     "data": {
      "text/plain": [
       "array([0., 0., 0., 0., 0., 0., 0., 0., 0., 0.])"
      ]
     },
     "execution_count": 4,
     "metadata": {},
     "output_type": "execute_result"
    }
   ],
   "source": [
    "   np.zeros(10)"
   ]
  },
  {
   "cell_type": "markdown",
   "metadata": {},
   "source": [
    "## Task 3\n",
    "- create 1d vector filled with ones of size 10"
   ]
  },
  {
   "cell_type": "code",
   "execution_count": 5,
   "metadata": {},
   "outputs": [
    {
     "data": {
      "text/plain": [
       "array([1., 1., 1., 1., 1., 1., 1., 1., 1., 1.])"
      ]
     },
     "execution_count": 5,
     "metadata": {},
     "output_type": "execute_result"
    }
   ],
   "source": [
    "np.ones(10)"
   ]
  },
  {
   "cell_type": "markdown",
   "metadata": {},
   "source": [
    "## Task 4\n",
    "- create 1d vector filled with ones of size 10,"
   ]
  },
  {
   "cell_type": "code",
   "execution_count": 6,
   "metadata": {},
   "outputs": [
    {
     "data": {
      "text/plain": [
       "array([1., 1., 1., 1., 1., 1., 1., 1., 1., 1.])"
      ]
     },
     "execution_count": 6,
     "metadata": {},
     "output_type": "execute_result"
    }
   ],
   "source": [
    "np.ones(10)"
   ]
  },
  {
   "cell_type": "markdown",
   "metadata": {},
   "source": [
    "## Task 5\n",
    "- crete 1d vector filled with numbers from 10 to 49"
   ]
  },
  {
   "cell_type": "code",
   "execution_count": 7,
   "metadata": {},
   "outputs": [
    {
     "data": {
      "text/plain": [
       "array([10, 11, 12, 13, 14, 15, 16, 17, 18, 19, 20, 21, 22, 23, 24, 25, 26,\n",
       "       27, 28, 29, 30, 31, 32, 33, 34, 35, 36, 37, 38, 39, 40, 41, 42, 43,\n",
       "       44, 45, 46, 47, 48, 49])"
      ]
     },
     "execution_count": 7,
     "metadata": {},
     "output_type": "execute_result"
    }
   ],
   "source": [
    "np.arange(10,50)"
   ]
  },
  {
   "cell_type": "markdown",
   "metadata": {},
   "source": [
    "## Task 6\n",
    "- create any 1d vector, then reverce it, such that last element will be on the first position"
   ]
  },
  {
   "cell_type": "code",
   "execution_count": 8,
   "metadata": {},
   "outputs": [
    {
     "data": {
      "text/plain": [
       "array([49, 48, 47, 46, 45, 44, 43, 42, 41, 40, 39, 38, 37, 36, 35, 34, 33,\n",
       "       32, 31, 30, 29, 28, 27, 26, 25, 24, 23, 22, 21, 20, 19, 18, 17, 16,\n",
       "       15, 14, 13, 12, 11, 10])"
      ]
     },
     "execution_count": 8,
     "metadata": {},
     "output_type": "execute_result"
    }
   ],
   "source": [
    "np.arange(10,50)[::-1]"
   ]
  },
  {
   "cell_type": "markdown",
   "metadata": {},
   "source": [
    "## Task 7\n",
    "- create 2d 3x3 array / matrix, filled with numbers from 0 to 8"
   ]
  },
  {
   "cell_type": "code",
   "execution_count": 9,
   "metadata": {},
   "outputs": [
    {
     "data": {
      "text/plain": [
       "array([[0, 1, 2],\n",
       "       [3, 4, 5],\n",
       "       [6, 7, 8]])"
      ]
     },
     "execution_count": 9,
     "metadata": {},
     "output_type": "execute_result"
    }
   ],
   "source": [
    "np.arange(0,9).reshape((3,3))"
   ]
  },
  {
   "cell_type": "markdown",
   "metadata": {},
   "source": [
    "## Task 8\n",
    "- create 3x3 matrix filled with ones"
   ]
  },
  {
   "cell_type": "code",
   "execution_count": 10,
   "metadata": {},
   "outputs": [
    {
     "data": {
      "text/plain": [
       "array([[1., 1., 1.],\n",
       "       [1., 1., 1.],\n",
       "       [1., 1., 1.]])"
      ]
     },
     "execution_count": 10,
     "metadata": {},
     "output_type": "execute_result"
    }
   ],
   "source": [
    "np.ones((3,3))"
   ]
  },
  {
   "cell_type": "markdown",
   "metadata": {},
   "source": [
    "## Task 9\n",
    "- create 3x3 matrix filled with random numbers"
   ]
  },
  {
   "cell_type": "code",
   "execution_count": 12,
   "metadata": {},
   "outputs": [
    {
     "data": {
      "text/plain": [
       "array([[0.4896905 , 0.32037491, 0.76020375],\n",
       "       [0.16256495, 0.54140132, 0.64102075],\n",
       "       [0.62528812, 0.55775813, 0.2569083 ]])"
      ]
     },
     "execution_count": 12,
     "metadata": {},
     "output_type": "execute_result"
    }
   ],
   "source": [
    "np.random.rand(3,3)"
   ]
  },
  {
   "cell_type": "markdown",
   "metadata": {},
   "source": [
    "## Task 10\n",
    "- create 3x3x3 array filled with random numbers"
   ]
  },
  {
   "cell_type": "code",
   "execution_count": 13,
   "metadata": {},
   "outputs": [
    {
     "data": {
      "text/plain": [
       "array([[[0.9071562 , 0.99544536, 0.30517622],\n",
       "        [0.97079701, 0.14331597, 0.18848977],\n",
       "        [0.53228456, 0.36552605, 0.31475286]],\n",
       "\n",
       "       [[0.04183468, 0.51695134, 0.28993199],\n",
       "        [0.48099056, 0.54909471, 0.84966357],\n",
       "        [0.32639345, 0.43877641, 0.43931863]],\n",
       "\n",
       "       [[0.95885169, 0.80004679, 0.06297915],\n",
       "        [0.33955363, 0.03948631, 0.68568667],\n",
       "        [0.78442444, 0.03223015, 0.26066125]]])"
      ]
     },
     "execution_count": 13,
     "metadata": {},
     "output_type": "execute_result"
    }
   ],
   "source": [
    "np.random.rand(3,3,3)"
   ]
  },
  {
   "cell_type": "markdown",
   "metadata": {},
   "source": [
    "## Task 11\n",
    "- create 10x10 matrix filled with random numbers and find minimal and maximal elements"
   ]
  },
  {
   "cell_type": "code",
   "execution_count": 39,
   "metadata": {},
   "outputs": [
    {
     "data": {
      "text/plain": [
       "2"
      ]
     },
     "execution_count": 39,
     "metadata": {},
     "output_type": "execute_result"
    }
   ],
   "source": [
    "np.min(np.random.randint(100,size=(10,10)))"
   ]
  },
  {
   "cell_type": "code",
   "execution_count": 45,
   "metadata": {},
   "outputs": [
    {
     "data": {
      "text/plain": [
       "98"
      ]
     },
     "execution_count": 45,
     "metadata": {},
     "output_type": "execute_result"
    }
   ],
   "source": [
    "np.max(np.random.randint(100,size=(10,10)))"
   ]
  },
  {
   "cell_type": "markdown",
   "metadata": {},
   "source": [
    "## Task 12\n",
    "- create a random 1d vector of size 30 and find average of them"
   ]
  },
  {
   "cell_type": "code",
   "execution_count": 48,
   "metadata": {},
   "outputs": [
    {
     "data": {
      "text/plain": [
       "array([ 0,  1,  2,  3,  4,  5,  6,  7,  8,  9, 10, 11, 12, 13, 14, 15, 16,\n",
       "       17, 18, 19, 20, 21, 22, 23, 24, 25, 26, 27, 28, 29])"
      ]
     },
     "execution_count": 48,
     "metadata": {},
     "output_type": "execute_result"
    }
   ],
   "source": [
    "np.arange(30)"
   ]
  },
  {
   "cell_type": "markdown",
   "metadata": {},
   "source": [
    "## Task 13\n",
    "- create 5x5 matrix, which has ones on a \"frame\" and zeros inside"
   ]
  },
  {
   "cell_type": "code",
   "execution_count": 55,
   "metadata": {},
   "outputs": [
    {
     "name": "stdout",
     "output_type": "stream",
     "text": [
      "[[1. 1. 1. 1. 1.]\n",
      " [1. 1. 1. 1. 1.]\n",
      " [1. 1. 1. 1. 1.]\n",
      " [1. 1. 1. 1. 1.]\n",
      " [1. 1. 1. 1. 1.]]\n",
      "[[0. 0. 0.]\n",
      " [0. 0. 0.]\n",
      " [0. 0. 0.]]\n",
      "[[1. 1. 1. 1. 1.]\n",
      " [1. 0. 0. 0. 1.]\n",
      " [1. 0. 0. 0. 1.]\n",
      " [1. 0. 0. 0. 1.]\n",
      " [1. 1. 1. 1. 1.]]\n"
     ]
    }
   ],
   "source": [
    "arr1 = np.ones((5,5))\n",
    "print(arr1)\n",
    "arr2 = np.zeros((3,3))\n",
    "print(arr2)\n",
    "arr1[1:-1,1:-1] = arr2\n",
    "print(arr1)"
   ]
  },
  {
   "cell_type": "markdown",
   "metadata": {},
   "source": [
    "## Task 14\n",
    "- create 8x8 matrix\n",
    "- fill it with ones and zeros in a \"chess\" order\n",
    "- **don't use** `tile` funtion"
   ]
  },
  {
   "cell_type": "code",
   "execution_count": 8,
   "metadata": {},
   "outputs": [
    {
     "data": {
      "text/plain": [
       "array([[1., 0., 1., 0., 1., 0., 1., 0.],\n",
       "       [0., 1., 0., 1., 0., 1., 0., 1.],\n",
       "       [1., 0., 1., 0., 1., 0., 1., 0.],\n",
       "       [0., 1., 0., 1., 0., 1., 0., 1.],\n",
       "       [1., 0., 1., 0., 1., 0., 1., 0.],\n",
       "       [0., 1., 0., 1., 0., 1., 0., 1.],\n",
       "       [1., 0., 1., 0., 1., 0., 1., 0.],\n",
       "       [0., 1., 0., 1., 0., 1., 0., 1.]])"
      ]
     },
     "execution_count": 8,
     "metadata": {},
     "output_type": "execute_result"
    }
   ],
   "source": [
    "a =np.ones((8,8))\n",
    "a[::2,1::2]=0\n",
    "a[1::2,::2]=0\n",
    "a"
   ]
  },
  {
   "cell_type": "markdown",
   "metadata": {},
   "source": [
    "## Task 15\n",
    "- create 8x8 matrix\n",
    "- fill it with ones and zeros in a \"chess\" order\n",
    "- **use** `tile` funtion"
   ]
  },
  {
   "cell_type": "code",
   "execution_count": 68,
   "metadata": {},
   "outputs": [
    {
     "data": {
      "text/plain": [
       "array([[1, 0, 1, 0, 1, 0, 1, 0],\n",
       "       [0, 1, 0, 1, 0, 1, 0, 1],\n",
       "       [1, 0, 1, 0, 1, 0, 1, 0],\n",
       "       [0, 1, 0, 1, 0, 1, 0, 1],\n",
       "       [1, 0, 1, 0, 1, 0, 1, 0],\n",
       "       [0, 1, 0, 1, 0, 1, 0, 1],\n",
       "       [1, 0, 1, 0, 1, 0, 1, 0],\n",
       "       [0, 1, 0, 1, 0, 1, 0, 1]])"
      ]
     },
     "execution_count": 68,
     "metadata": {},
     "output_type": "execute_result"
    }
   ],
   "source": [
    "a = [[1,0],[0,1]]\n",
    "np.tile(a,(4,4))"
   ]
  },
  {
   "cell_type": "markdown",
   "metadata": {},
   "source": [
    "## Task 16\n",
    "- create two random matrices 5x3 and 3x2\n",
    "- multiply them"
   ]
  },
  {
   "cell_type": "code",
   "execution_count": 76,
   "metadata": {},
   "outputs": [
    {
     "name": "stdout",
     "output_type": "stream",
     "text": [
      "a1 = [[49 58 13]\n",
      " [77 36 34]\n",
      " [84 92  2]\n",
      " [28  1  9]\n",
      " [60 78 70]]\n",
      "a2 = [[46 63]\n",
      " [87 15]\n",
      " [95 31]]\n",
      "a3 = [[ 8535  4360]\n",
      " [ 9904  6445]\n",
      " [12058  6734]\n",
      " [ 2230  2058]\n",
      " [16196  7120]]\n"
     ]
    }
   ],
   "source": [
    "a1 = np.random.randint(0,100,size=(5,3))\n",
    "a2 = np.random.randint(0,100,size=(3,2))\n",
    "a3 = np.matmul(a1,a2)\n",
    "\n",
    "print('a1 =',a1)\n",
    "print('a2 =',a2)\n",
    "print('a3 =',a3)"
   ]
  },
  {
   "cell_type": "markdown",
   "metadata": {},
   "source": [
    "## Task 17\n",
    "- create array of size 100 filled with random numbers from 0 to 10\n",
    "- chenge sign of all numbers which are in a range between 3 and 8"
   ]
  },
  {
   "cell_type": "code",
   "execution_count": 81,
   "metadata": {},
   "outputs": [
    {
     "name": "stdout",
     "output_type": "stream",
     "text": [
      "[0 6 3 1 8 2 5 0 6 7 0 9 5 7 1 4 2 2 2 1 5 0 3 1 0 5 0 9 6 1 3 5 4 2 4 3 5\n",
      " 5 3 9 5 0 9 1 6 6 4 8 4 1 3 3 2 7 0 9 2 4 7 5 5 6 2 9 9 0 6 5 5 0 3 6 8 0\n",
      " 3 7 8 3 6 8 9 7 1 5 3 3 5 7 5 0 2 3 9 1 0 1 3 5 2 1]\n",
      "[ 0 -6 -3  1 -8  2 -5  0 -6 -7  0  9 -5 -7  1 -4  2  2  2  1 -5  0 -3  1\n",
      "  0 -5  0  9 -6  1 -3 -5 -4  2 -4 -3 -5 -5 -3  9 -5  0  9  1 -6 -6 -4 -8\n",
      " -4  1 -3 -3  2 -7  0  9  2 -4 -7 -5 -5 -6  2  9  9  0 -6 -5 -5  0 -3 -6\n",
      " -8  0 -3 -7 -8 -3 -6 -8  9 -7  1 -5 -3 -3 -5 -7 -5  0  2 -3  9  1  0  1\n",
      " -3 -5  2  1]\n"
     ]
    }
   ],
   "source": [
    "a1 = np.random.randint(0,10,size=(100))\n",
    "print(a1)\n",
    "a1[((a1>=3)&(a1<=8))] = a1[((a1>=3)&(a1<=8))]  * -1\n",
    "print(a1)"
   ]
  },
  {
   "cell_type": "markdown",
   "metadata": {},
   "source": [
    "## Task 18\n",
    "- create a matrix 5x5 such that each row would be a 1d array filled with numbers from 0 to 4"
   ]
  },
  {
   "cell_type": "code",
   "execution_count": 112,
   "metadata": {},
   "outputs": [
    {
     "data": {
      "text/plain": [
       "array([[0, 1, 2, 3, 4],\n",
       "       [0, 1, 2, 3, 4],\n",
       "       [0, 1, 2, 3, 4],\n",
       "       [0, 1, 2, 3, 4],\n",
       "       [0, 1, 2, 3, 4]])"
      ]
     },
     "execution_count": 112,
     "metadata": {},
     "output_type": "execute_result"
    }
   ],
   "source": [
    "a = [0,1,2,3,4]\n",
    "np.vstack([a,a,a,a,a])"
   ]
  },
  {
   "cell_type": "markdown",
   "metadata": {},
   "source": [
    "## Task 19\n",
    "- create 1d vector of size 100 filled with random values from range 0-1, excluding boundary values (no exact 0/1)"
   ]
  },
  {
   "cell_type": "code",
   "execution_count": 152,
   "metadata": {},
   "outputs": [
    {
     "data": {
      "text/plain": [
       "array([0.91874783, 0.19028375, 0.22285303, 0.44713655, 0.9892861 ,\n",
       "       0.77975489, 0.9170719 , 0.87766583, 0.60439286, 0.59279877,\n",
       "       0.12843868, 0.36281415, 0.748593  , 0.89924829, 0.16158864,\n",
       "       0.21589427, 0.85029587, 0.21175775, 0.70327231, 0.53376531,\n",
       "       0.36313556, 0.41125324, 0.10237408, 0.21166162, 0.8392854 ,\n",
       "       0.65184591, 0.35504764, 0.6992582 , 0.51471138, 0.96621981,\n",
       "       0.78013507, 0.34492366, 0.25955929, 0.26797023, 0.30310006,\n",
       "       0.9256282 , 0.22594759, 0.17440609, 0.64473467, 0.58134092,\n",
       "       0.6216081 , 0.588684  , 0.30630897, 0.63266014, 0.75434471,\n",
       "       0.79593837, 0.21128372, 0.65804672, 0.45664041, 0.60661794,\n",
       "       0.1247662 , 0.10778823, 0.29600882, 0.75995453, 0.43891069,\n",
       "       0.34882464, 0.84670047, 0.30651419, 0.55630924, 0.57724022,\n",
       "       0.12586719, 0.14976261, 0.18469654, 0.49306717, 0.48125977,\n",
       "       0.65710993, 0.16433878, 0.50877639, 0.78119367, 0.79001717,\n",
       "       0.6115001 , 0.74201067, 0.95669123, 0.15932425, 0.28342141,\n",
       "       0.49122147, 0.30623288, 0.13205677, 0.44181693, 0.65917568,\n",
       "       0.9185708 , 0.98901392, 0.77194303, 0.8143535 , 0.11971417,\n",
       "       0.77114049, 0.58036244, 0.4857364 , 0.5973314 , 0.43650665,\n",
       "       0.51610222, 0.59144517, 0.65992334, 0.35251449, 0.18567479,\n",
       "       0.38767356, 0.92939901, 0.90871254, 0.34122492, 0.79949002])"
      ]
     },
     "execution_count": 152,
     "metadata": {},
     "output_type": "execute_result"
    }
   ],
   "source": [
    "np.random.uniform(low=0.1, high=.99, size=(100,))"
   ]
  },
  {
   "cell_type": "markdown",
   "metadata": {},
   "source": [
    "## Task 20\n",
    "- create a 10x2 random matrix filled with number from range 0-100\n",
    "- consider it as points in Cartesian plain\n",
    "- convert to polar system of coordinates"
   ]
  },
  {
   "cell_type": "code",
   "execution_count": 159,
   "metadata": {},
   "outputs": [
    {
     "data": {
      "text/plain": [
       "array([[45, 19],\n",
       "       [85, 83],\n",
       "       [94, 47],\n",
       "       [81, 99],\n",
       "       [ 6, 62],\n",
       "       [25, 38],\n",
       "       [72, 87],\n",
       "       [27, 51],\n",
       "       [41, 58],\n",
       "       [86, 96]])"
      ]
     },
     "execution_count": 159,
     "metadata": {},
     "output_type": "execute_result"
    }
   ],
   "source": [
    "np.random.randint(0,101,size=(10,2))"
   ]
  },
  {
   "cell_type": "markdown",
   "metadata": {},
   "source": [
    "## Task 21\n",
    "- create random 13x13 matrix, replace maximal element to zero"
   ]
  },
  {
   "cell_type": "code",
   "execution_count": 168,
   "metadata": {},
   "outputs": [
    {
     "name": "stdout",
     "output_type": "stream",
     "text": [
      "[[32  1 96 27 68 42 59 48 86 61 87 56 87]\n",
      " [20 31 54 44 14 11 86 76 48 92 30 94 31]\n",
      " [50 66 36 80 57 51 55 24 41 46 54 33 27]\n",
      " [99 78 53 26 71 98 20 14  7 87 23 51 45]\n",
      " [33  5 32 69 27  7 95 11 46 61 40 65 69]\n",
      " [ 2 73 30 16 41  6 77  0 12 17 50 74 61]\n",
      " [81 78 91 34  2 66 95 39 80 61 64  6 44]\n",
      " [72 59 22 40 35 75 23 97 21 93 43 26 94]\n",
      " [26 64 17 85 96 14  3 88 79 99 27 78 72]\n",
      " [59 31 63 75 43 27 23 38 41 76 20 94 16]\n",
      " [24 61 77 31 65 51 56 99 19 69 64 70 27]\n",
      " [15 92 15  5 53 34  8 29 51 16 42 79 53]\n",
      " [58  8 33 55 34 32 85 25 44 57 82 56 97]]\n",
      "99\n",
      "[[32  1 96 27 68 42 59 48 86 61 87 56 87]\n",
      " [20 31 54 44 14 11 86 76 48 92 30 94 31]\n",
      " [50 66 36 80 57 51 55 24 41 46 54 33 27]\n",
      " [ 0 78 53 26 71 98 20 14  7 87 23 51 45]\n",
      " [33  5 32 69 27  7 95 11 46 61 40 65 69]\n",
      " [ 2 73 30 16 41  6 77  0 12 17 50 74 61]\n",
      " [81 78 91 34  2 66 95 39 80 61 64  6 44]\n",
      " [72 59 22 40 35 75 23 97 21 93 43 26 94]\n",
      " [26 64 17 85 96 14  3 88 79  0 27 78 72]\n",
      " [59 31 63 75 43 27 23 38 41 76 20 94 16]\n",
      " [24 61 77 31 65 51 56  0 19 69 64 70 27]\n",
      " [15 92 15  5 53 34  8 29 51 16 42 79 53]\n",
      " [58  8 33 55 34 32 85 25 44 57 82 56 97]]\n"
     ]
    }
   ],
   "source": [
    "a = np.random.randint(0,100,size=(13,13))\n",
    "print(a)\n",
    "print(np.max(a))\n",
    "a[np.where (a==np.max(a))] = 0\n",
    "print(a)"
   ]
  },
  {
   "cell_type": "markdown",
   "metadata": {},
   "source": [
    "## Task 22\n",
    "- create two 1d arrays with random values\n",
    "- make a Cauchy matrix from them $C (C_{ij} = \\frac{1}{x_i - y_j})$"
   ]
  },
  {
   "cell_type": "code",
   "execution_count": 29,
   "metadata": {},
   "outputs": [
    {
     "name": "stdout",
     "output_type": "stream",
     "text": [
      "[[-0.33333333 -0.25       -0.2       ]\n",
      " [-0.25       -0.2        -0.16666667]\n",
      " [ 0.33333333  0.5         1.        ]\n",
      " [-0.33333333 -0.25       -0.2       ]]\n"
     ]
    }
   ],
   "source": [
    "x = np.random.randint(1,10,size=(4))\n",
    "y = np.array([5,6,7])  \n",
    "x = x.reshape((-1,1))\n",
    "diff_matrix = x-y\n",
    "cauchym = 1.0/diff_matrix\n",
    "print(cauchym)"
   ]
  },
  {
   "cell_type": "code",
   "execution_count": 283,
   "metadata": {},
   "outputs": [
    {
     "name": "stdout",
     "output_type": "stream",
     "text": [
      "[[1]\n",
      " [3]\n",
      " [7]\n",
      " [0]]\n",
      "[2 2 6]\n",
      "[[-1.         -1.         -0.2       ]\n",
      " [ 1.          1.         -0.33333333]\n",
      " [ 0.2         0.2         1.        ]\n",
      " [-0.5        -0.5        -0.16666667]]\n"
     ]
    }
   ],
   "source": [
    "x = np.random.randint(0,10,size=(4))\n",
    "y = np.random.randint(0,10,size=(3))\n",
    "x = x.reshape((-1,1))\n",
    "diff = x - y\n",
    "cauchym = 1.0/diff\n",
    "print(x)\n",
    "print(y)\n",
    "print(cauchym)"
   ]
  },
  {
   "cell_type": "markdown",
   "metadata": {},
   "source": [
    "## Task 23\n",
    "- create an array of random `float` numbers and convert it to `int`"
   ]
  },
  {
   "cell_type": "code",
   "execution_count": 183,
   "metadata": {},
   "outputs": [
    {
     "name": "stdout",
     "output_type": "stream",
     "text": [
      "[[5.9805171  5.39041682 1.03701264]\n",
      " [5.47426551 0.46945431 9.88414902]\n",
      " [6.40164594 0.82019375 6.58133178]]\n",
      "[[5 5 1]\n",
      " [5 0 9]\n",
      " [6 0 6]]\n"
     ]
    }
   ],
   "source": [
    "a = np.random.random((3,3)) * 10\n",
    "print(a)\n",
    "b=a.astype(int)\n",
    "print(b)"
   ]
  },
  {
   "cell_type": "markdown",
   "metadata": {},
   "source": [
    "## Task 24\n",
    "- create 1d array of numbers from 0 to 15\n",
    "- put each of them in random positions inside 4x4 matrix"
   ]
  },
  {
   "cell_type": "code",
   "execution_count": 186,
   "metadata": {},
   "outputs": [
    {
     "data": {
      "text/plain": [
       "array([[ 0,  1,  2,  3],\n",
       "       [ 4,  5,  6,  7],\n",
       "       [ 8,  9, 10, 11],\n",
       "       [12, 13, 14, 15]])"
      ]
     },
     "execution_count": 186,
     "metadata": {},
     "output_type": "execute_result"
    }
   ],
   "source": [
    "np.arange(0,16).reshape(4,4)"
   ]
  },
  {
   "cell_type": "markdown",
   "metadata": {},
   "source": [
    "## Task 25\n",
    "- create random 100x50 matrix\n",
    "- deduct avarage of each row from correspondatn rows"
   ]
  },
  {
   "cell_type": "code",
   "execution_count": 189,
   "metadata": {},
   "outputs": [
    {
     "data": {
      "text/plain": [
       "array([50.18, 51.31, 48.07, 51.19, 51.82, 50.01, 46.1 , 51.02, 44.6 ,\n",
       "       45.57, 53.95, 46.64, 45.7 , 53.27, 52.5 , 51.7 , 47.27, 51.35,\n",
       "       47.83, 51.2 , 50.07, 49.04, 50.03, 50.22, 51.12, 43.91, 47.77,\n",
       "       49.33, 50.21, 52.1 , 48.17, 49.34, 50.82, 51.68, 44.62, 51.89,\n",
       "       44.27, 54.68, 44.59, 48.21, 47.42, 47.42, 50.63, 47.26, 46.  ,\n",
       "       46.3 , 51.72, 53.95, 51.07, 45.85])"
      ]
     },
     "execution_count": 189,
     "metadata": {},
     "output_type": "execute_result"
    }
   ],
   "source": [
    "a = np.random.randint(0,100,size=(100,50))\n",
    "a.mean(axis=0)"
   ]
  },
  {
   "cell_type": "markdown",
   "metadata": {},
   "source": [
    "## Task 26 \n",
    "- create random 10x10 matrix\n",
    "- extract diagonal elements and put them into 1d array"
   ]
  },
  {
   "cell_type": "code",
   "execution_count": 200,
   "metadata": {},
   "outputs": [
    {
     "name": "stdout",
     "output_type": "stream",
     "text": [
      "[[59 55 16 81 38 64 84 45 21 40]\n",
      " [ 9 68 66  5 68 64 63 31 24 12]\n",
      " [89 23 38 50 82 40 68 90 83 16]\n",
      " [61 41 46 64 70  5 36 32 60 34]\n",
      " [46 40 61  7 33 66 50 20 77 78]\n",
      " [33 66  7 69 83 41 79 28  2 12]\n",
      " [22 66 56 40 22 28 23  9 37 58]\n",
      " [37 62 76 58 84 11 26 19 31 61]\n",
      " [42 72 18 94 49  4  9 98 93 61]\n",
      " [78 10 24 81 92 19 94 85 84 67]]\n",
      "[[ True False False False False False False False False False]\n",
      " [False  True False False False False False False False False]\n",
      " [False False  True False False False False False False False]\n",
      " [False False False  True False False False False False False]\n",
      " [False False False False  True False False False False False]\n",
      " [False False False False False  True False False False False]\n",
      " [False False False False False False  True False False False]\n",
      " [False False False False False False False  True False False]\n",
      " [False False False False False False False False  True False]\n",
      " [False False False False False False False False False  True]]\n",
      "[59 68 38 64 33 41 23 19 93 67]\n"
     ]
    }
   ],
   "source": [
    "a = np.random.randint(100,size=(10,10))\n",
    "b = (np.identity(10) == 1)\n",
    "print(a)\n",
    "print(b)\n",
    "c = a[b]\n",
    "print(c)"
   ]
  },
  {
   "cell_type": "code",
   "execution_count": 205,
   "metadata": {},
   "outputs": [
    {
     "name": "stdout",
     "output_type": "stream",
     "text": [
      "[[40 79 29 55 87 77 95 29 81 21]\n",
      " [ 3 22  2 93  4 21 17 79 71 33]\n",
      " [71 19 65 29 36 79  2 82  5 79]\n",
      " [ 7 45 36  2 37 65 44 76 69 15]\n",
      " [72 62 45 27 65 89  9  2 21 93]\n",
      " [ 1 88 91  9 45  6 58 47 81 44]\n",
      " [38 73 89 62  4  0 46 24 35 85]\n",
      " [38 94  7 92 21  9 10 94 33 26]\n",
      " [81 31 97 62 14 56 28  5 99 91]\n",
      " [34 83 79  0 73 55 56 46 20 12]]\n",
      "[40 22 65  2 65  6 46 94 99 12]\n"
     ]
    }
   ],
   "source": [
    "a = np.random.randint(100,size=(10,10))\n",
    "b = np.identity(10)\n",
    "c = a[(a*b > 0)]\n",
    "print(a)\n",
    "print(c)"
   ]
  },
  {
   "cell_type": "markdown",
   "metadata": {},
   "source": [
    "## Task 27\n",
    "- given a vector `[1, 2, 3, 4, 5]`\n",
    "- build a new vertor with three zeros between each element"
   ]
  },
  {
   "cell_type": "code",
   "execution_count": 269,
   "metadata": {},
   "outputs": [
    {
     "data": {
      "text/plain": [
       "array([1, 0, 0, 0, 2, 0, 0, 0, 3, 0, 0, 0, 4, 0, 0, 0, 5])"
      ]
     },
     "execution_count": 269,
     "metadata": {},
     "output_type": "execute_result"
    }
   ],
   "source": [
    "a = np.array([1, 2, 3, 4, 5])\n",
    "n=a.shape[0]\n",
    "m = n + (n-1) * 3\n",
    "out = np.zeros(m,dtype=a.dtype)\n",
    "out[::4] = a\n",
    "out"
   ]
  }
 ],
 "metadata": {
  "kernelspec": {
   "display_name": "Python 3",
   "language": "python",
   "name": "python3"
  },
  "language_info": {
   "codemirror_mode": {
    "name": "ipython",
    "version": 3
   },
   "file_extension": ".py",
   "mimetype": "text/x-python",
   "name": "python",
   "nbconvert_exporter": "python",
   "pygments_lexer": "ipython3",
   "version": "3.7.3"
  }
 },
 "nbformat": 4,
 "nbformat_minor": 2
}
