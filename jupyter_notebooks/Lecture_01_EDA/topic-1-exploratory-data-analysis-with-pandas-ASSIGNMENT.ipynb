{
 "cells": [
  {
   "cell_type": "markdown",
   "metadata": {},
   "source": [
    "<center>\n",
    "<img src=\"../../img/ods_stickers.jpg\">\n",
    "    \n",
    "## [mlcourse.ai](https://mlcourse.ai) - Open Machine Learning Course\n",
    "\n",
    "Author: [Yury Kashnitsky](https://www.linkedin.com/in/festline/). Translated and edited by [Sergey Isaev](https://www.linkedin.com/in/isvforall/), [Artem Trunov](https://www.linkedin.com/in/datamove/), [Anastasia Manokhina](https://www.linkedin.com/in/anastasiamanokhina/), and [Yuanyuan Pao](https://www.linkedin.com/in/yuanyuanpao/). All content is distributed under the [Creative Commons CC BY-NC-SA 4.0](https://creativecommons.org/licenses/by-nc-sa/4.0/) license."
   ]
  },
  {
   "cell_type": "markdown",
   "metadata": {},
   "source": [
    "# <center> Assignment #1 (demo)\n",
    "## <center>  Exploratory data analysis with Pandas\n",
    "\n",
    "\n",
    "**Same assignment as a [Kaggle Kernel](https://www.kaggle.com/kashnitsky/a1-demo-pandas-and-uci-adult-dataset) + [solution](https://www.kaggle.com/kashnitsky/a1-demo-pandas-and-uci-adult-dataset-solution).**"
   ]
  },
  {
   "cell_type": "markdown",
   "metadata": {},
   "source": [
    "**In this task you should use Pandas to answer a few questions about the [Adult](https://archive.ics.uci.edu/ml/datasets/Adult) dataset. (You don't have to download the data – it's already  in the repository). Choose the answers in the [web-form](https://docs.google.com/forms/d/1uY7MpI2trKx6FLWZte0uVh3ULV4Cm_tDud0VDFGCOKg).**"
   ]
  },
  {
   "cell_type": "markdown",
   "metadata": {},
   "source": [
    "Unique values of all features (for more information, please see the links above):\n",
    "- `age`: continuous.\n",
    "- `workclass`: Private, Self-emp-not-inc, Self-emp-inc, Federal-gov, Local-gov, State-gov, Without-pay, Never-worked.\n",
    "- `fnlwgt`: continuous.\n",
    "- `education`: Bachelors, Some-college, 11th, HS-grad, Prof-school, Assoc-acdm, Assoc-voc, 9th, 7th-8th, 12th, Masters, 1st-4th, 10th, Doctorate, 5th-6th, Preschool.\n",
    "- `education-num`: continuous.\n",
    "- `marital-status`: Married-civ-spouse, Divorced, Never-married, Separated, Widowed, Married-spouse-absent, Married-AF-spouse.\n",
    "- `occupation`: Tech-support, Craft-repair, Other-service, Sales, Exec-managerial, Prof-specialty, Handlers-cleaners, Machine-op-inspct, Adm-clerical, Farming-fishing, Transport-moving, Priv-house-serv, Protective-serv, Armed-Forces.\n",
    "- `relationship`: Wife, Own-child, Husband, Not-in-family, Other-relative, Unmarried.\n",
    "- `race`: White, Asian-Pac-Islander, Amer-Indian-Eskimo, Other, Black.\n",
    "- `sex`: Female, Male.\n",
    "- `capital-gain`: continuous.\n",
    "- `capital-loss`: continuous.\n",
    "- `hours-per-week`: continuous.\n",
    "- `native-country`: United-States, Cambodia, England, Puerto-Rico, Canada, Germany, Outlying-US(Guam-USVI-etc), India, Japan, Greece, South, China, Cuba, Iran, Honduras, Philippines, Italy, Poland, Jamaica, Vietnam, Mexico, Portugal, Ireland, France, Dominican-Republic, Laos, Ecuador, Taiwan, Haiti, Columbia, Hungary, Guatemala, Nicaragua, Scotland, Thailand, Yugoslavia, El-Salvador, Trinadad&Tobago, Peru, Hong, Holand-Netherlands.   \n",
    "- `salary`: >50K,<=50K"
   ]
  },
  {
   "cell_type": "code",
   "execution_count": 208,
   "metadata": {
    "ExecuteTime": {
     "end_time": "2020-02-26T19:15:19.285921Z",
     "start_time": "2020-02-26T19:15:18.073149Z"
    }
   },
   "outputs": [],
   "source": [
    "import numpy as np\n",
    "import pandas as pd\n",
    "pd.set_option('display.max.columns', 100)\n",
    "pd.set_option('display.precision', 2)\n",
    "# to draw pictures in jupyter notebook\n",
    "%matplotlib inline \n",
    "import matplotlib.pyplot as plt\n",
    "import seaborn as sns\n",
    "# we don't like warnings\n",
    "# you can comment the following 2 lines if you'd like to\n",
    "import warnings\n",
    "warnings.filterwarnings('ignore')\n",
    "pd.set_option(\"display.precision\", 2)"
   ]
  },
  {
   "cell_type": "code",
   "execution_count": 209,
   "metadata": {},
   "outputs": [
    {
     "data": {
      "text/html": [
       "<div>\n",
       "<style scoped>\n",
       "    .dataframe tbody tr th:only-of-type {\n",
       "        vertical-align: middle;\n",
       "    }\n",
       "\n",
       "    .dataframe tbody tr th {\n",
       "        vertical-align: top;\n",
       "    }\n",
       "\n",
       "    .dataframe thead th {\n",
       "        text-align: right;\n",
       "    }\n",
       "</style>\n",
       "<table border=\"1\" class=\"dataframe\">\n",
       "  <thead>\n",
       "    <tr style=\"text-align: right;\">\n",
       "      <th></th>\n",
       "      <th>age</th>\n",
       "      <th>workclass</th>\n",
       "      <th>fnlwgt</th>\n",
       "      <th>education</th>\n",
       "      <th>education-num</th>\n",
       "      <th>marital-status</th>\n",
       "      <th>occupation</th>\n",
       "      <th>relationship</th>\n",
       "      <th>race</th>\n",
       "      <th>sex</th>\n",
       "      <th>capital-gain</th>\n",
       "      <th>capital-loss</th>\n",
       "      <th>hours-per-week</th>\n",
       "      <th>native-country</th>\n",
       "      <th>salary</th>\n",
       "    </tr>\n",
       "  </thead>\n",
       "  <tbody>\n",
       "    <tr>\n",
       "      <th>0</th>\n",
       "      <td>39</td>\n",
       "      <td>State-gov</td>\n",
       "      <td>77516</td>\n",
       "      <td>Bachelors</td>\n",
       "      <td>13</td>\n",
       "      <td>Never-married</td>\n",
       "      <td>Adm-clerical</td>\n",
       "      <td>Not-in-family</td>\n",
       "      <td>White</td>\n",
       "      <td>Male</td>\n",
       "      <td>2174</td>\n",
       "      <td>0</td>\n",
       "      <td>40</td>\n",
       "      <td>United-States</td>\n",
       "      <td>&lt;=50K</td>\n",
       "    </tr>\n",
       "    <tr>\n",
       "      <th>1</th>\n",
       "      <td>50</td>\n",
       "      <td>Self-emp-not-inc</td>\n",
       "      <td>83311</td>\n",
       "      <td>Bachelors</td>\n",
       "      <td>13</td>\n",
       "      <td>Married-civ-spouse</td>\n",
       "      <td>Exec-managerial</td>\n",
       "      <td>Husband</td>\n",
       "      <td>White</td>\n",
       "      <td>Male</td>\n",
       "      <td>0</td>\n",
       "      <td>0</td>\n",
       "      <td>13</td>\n",
       "      <td>United-States</td>\n",
       "      <td>&lt;=50K</td>\n",
       "    </tr>\n",
       "    <tr>\n",
       "      <th>2</th>\n",
       "      <td>38</td>\n",
       "      <td>Private</td>\n",
       "      <td>215646</td>\n",
       "      <td>HS-grad</td>\n",
       "      <td>9</td>\n",
       "      <td>Divorced</td>\n",
       "      <td>Handlers-cleaners</td>\n",
       "      <td>Not-in-family</td>\n",
       "      <td>White</td>\n",
       "      <td>Male</td>\n",
       "      <td>0</td>\n",
       "      <td>0</td>\n",
       "      <td>40</td>\n",
       "      <td>United-States</td>\n",
       "      <td>&lt;=50K</td>\n",
       "    </tr>\n",
       "    <tr>\n",
       "      <th>3</th>\n",
       "      <td>53</td>\n",
       "      <td>Private</td>\n",
       "      <td>234721</td>\n",
       "      <td>11th</td>\n",
       "      <td>7</td>\n",
       "      <td>Married-civ-spouse</td>\n",
       "      <td>Handlers-cleaners</td>\n",
       "      <td>Husband</td>\n",
       "      <td>Black</td>\n",
       "      <td>Male</td>\n",
       "      <td>0</td>\n",
       "      <td>0</td>\n",
       "      <td>40</td>\n",
       "      <td>United-States</td>\n",
       "      <td>&lt;=50K</td>\n",
       "    </tr>\n",
       "    <tr>\n",
       "      <th>4</th>\n",
       "      <td>28</td>\n",
       "      <td>Private</td>\n",
       "      <td>338409</td>\n",
       "      <td>Bachelors</td>\n",
       "      <td>13</td>\n",
       "      <td>Married-civ-spouse</td>\n",
       "      <td>Prof-specialty</td>\n",
       "      <td>Wife</td>\n",
       "      <td>Black</td>\n",
       "      <td>Female</td>\n",
       "      <td>0</td>\n",
       "      <td>0</td>\n",
       "      <td>40</td>\n",
       "      <td>Cuba</td>\n",
       "      <td>&lt;=50K</td>\n",
       "    </tr>\n",
       "  </tbody>\n",
       "</table>\n",
       "</div>"
      ],
      "text/plain": [
       "   age         workclass  fnlwgt  education  education-num  \\\n",
       "0   39         State-gov   77516  Bachelors             13   \n",
       "1   50  Self-emp-not-inc   83311  Bachelors             13   \n",
       "2   38           Private  215646    HS-grad              9   \n",
       "3   53           Private  234721       11th              7   \n",
       "4   28           Private  338409  Bachelors             13   \n",
       "\n",
       "       marital-status         occupation   relationship   race     sex  \\\n",
       "0       Never-married       Adm-clerical  Not-in-family  White    Male   \n",
       "1  Married-civ-spouse    Exec-managerial        Husband  White    Male   \n",
       "2            Divorced  Handlers-cleaners  Not-in-family  White    Male   \n",
       "3  Married-civ-spouse  Handlers-cleaners        Husband  Black    Male   \n",
       "4  Married-civ-spouse     Prof-specialty           Wife  Black  Female   \n",
       "\n",
       "   capital-gain  capital-loss  hours-per-week native-country salary  \n",
       "0          2174             0              40  United-States  <=50K  \n",
       "1             0             0              13  United-States  <=50K  \n",
       "2             0             0              40  United-States  <=50K  \n",
       "3             0             0              40  United-States  <=50K  \n",
       "4             0             0              40           Cuba  <=50K  "
      ]
     },
     "execution_count": 209,
     "metadata": {},
     "output_type": "execute_result"
    }
   ],
   "source": [
    "data = pd.read_csv('../../data/adult.data.csv')\n",
    "data.head()"
   ]
  },
  {
   "cell_type": "markdown",
   "metadata": {},
   "source": [
    "**1. How many men and women (*sex* feature) are represented in this dataset?** "
   ]
  },
  {
   "cell_type": "code",
   "execution_count": 210,
   "metadata": {},
   "outputs": [
    {
     "name": "stdout",
     "output_type": "stream",
     "text": [
      "Gender\n",
      "Male      21790\n",
      "Female    10771\n",
      "Name: Gender Count, dtype: int64\n"
     ]
    }
   ],
   "source": [
    "gender_count = data.sex.value_counts()\n",
    "gender_count.index.name='Gender'\n",
    "gender_count.name='Gender Count'\n",
    "print(gender_count)"
   ]
  },
  {
   "cell_type": "markdown",
   "metadata": {},
   "source": [
    "**2. What is the average age (*age* feature) of women?**"
   ]
  },
  {
   "cell_type": "code",
   "execution_count": 212,
   "metadata": {},
   "outputs": [
    {
     "name": "stdout",
     "output_type": "stream",
     "text": [
      "Average age of women : 36.86\n"
     ]
    }
   ],
   "source": [
    "avg_age_women = data[data['sex']=='Female']['age'].mean()\n",
    "print(\"Average age of women : {0:0.2f}\".format(avg_age_women))"
   ]
  },
  {
   "cell_type": "markdown",
   "metadata": {},
   "source": [
    "**3. What is the percentage of German citizens (*native-country* feature)?**"
   ]
  },
  {
   "cell_type": "code",
   "execution_count": 53,
   "metadata": {},
   "outputs": [
    {
     "name": "stdout",
     "output_type": "stream",
     "text": [
      "Percentage of German citizens : 0.42\n"
     ]
    }
   ],
   "source": [
    "german_citizien_propotion = data['native-country'].value_counts(normalize=True)['Germany'] * 100\n",
    "print(\"Percentage of German citizens : {0:.2f}\".format(german_citizien_propotion))"
   ]
  },
  {
   "cell_type": "markdown",
   "metadata": {},
   "source": [
    "**4-5. What are the mean and standard deviation of age for those who earn more than 50K per year (*salary* feature) and those who earn less than 50K per year? **"
   ]
  },
  {
   "cell_type": "code",
   "execution_count": 59,
   "metadata": {},
   "outputs": [
    {
     "data": {
      "text/html": [
       "<div>\n",
       "<style scoped>\n",
       "    .dataframe tbody tr th:only-of-type {\n",
       "        vertical-align: middle;\n",
       "    }\n",
       "\n",
       "    .dataframe tbody tr th {\n",
       "        vertical-align: top;\n",
       "    }\n",
       "\n",
       "    .dataframe thead th {\n",
       "        text-align: right;\n",
       "    }\n",
       "</style>\n",
       "<table border=\"1\" class=\"dataframe\">\n",
       "  <thead>\n",
       "    <tr style=\"text-align: right;\">\n",
       "      <th></th>\n",
       "      <th>mean</th>\n",
       "      <th>std</th>\n",
       "    </tr>\n",
       "    <tr>\n",
       "      <th>salary</th>\n",
       "      <th></th>\n",
       "      <th></th>\n",
       "    </tr>\n",
       "  </thead>\n",
       "  <tbody>\n",
       "    <tr>\n",
       "      <th>&lt;=50K</th>\n",
       "      <td>36.78</td>\n",
       "      <td>14.02</td>\n",
       "    </tr>\n",
       "    <tr>\n",
       "      <th>&gt;50K</th>\n",
       "      <td>44.25</td>\n",
       "      <td>10.52</td>\n",
       "    </tr>\n",
       "  </tbody>\n",
       "</table>\n",
       "</div>"
      ],
      "text/plain": [
       "         mean    std\n",
       "salary              \n",
       "<=50K   36.78  14.02\n",
       ">50K    44.25  10.52"
      ]
     },
     "execution_count": 59,
     "metadata": {},
     "output_type": "execute_result"
    }
   ],
   "source": [
    "data.groupby(['salary'])['age'].agg([np.mean,np.std])"
   ]
  },
  {
   "cell_type": "markdown",
   "metadata": {},
   "source": [
    "**6. Is it true that people who earn more than 50K have at least high school education? (*education – Bachelors, Prof-school, Assoc-acdm, Assoc-voc, Masters* or *Doctorate* feature)**"
   ]
  },
  {
   "cell_type": "code",
   "execution_count": 63,
   "metadata": {},
   "outputs": [
    {
     "name": "stdout",
     "output_type": "stream",
     "text": [
      "People who earn more than 50K even have lower than high school education\n"
     ]
    }
   ],
   "source": [
    "def checkHasHighSchoolEdu(dataset,highSchEduList):\n",
    "    for degree in dataset:\n",
    "        if degree not in highSchEduList:\n",
    "            return False\n",
    "    return True\n",
    "\n",
    "high_edu=['Bachelors', 'Masters','Assoc-acdm', 'Assoc-voc', 'Doctorate', 'Prof-school']\n",
    "if checkHasHighSchoolEdu(data[data['salary']=='>50K']['education'],high_edu):\n",
    "    print('People who earn more than 50K have at least high school education')\n",
    "else:\n",
    "    print('People who earn more than 50K even have lower than high school education')    "
   ]
  },
  {
   "cell_type": "markdown",
   "metadata": {},
   "source": [
    "**7. Display age statistics for each race (*race* feature) and each gender (*sex* feature). Use *groupby()* and *describe()*. Find the maximum age of men of *Amer-Indian-Eskimo* race.**"
   ]
  },
  {
   "cell_type": "code",
   "execution_count": 67,
   "metadata": {},
   "outputs": [
    {
     "data": {
      "text/html": [
       "<div>\n",
       "<style scoped>\n",
       "    .dataframe tbody tr th:only-of-type {\n",
       "        vertical-align: middle;\n",
       "    }\n",
       "\n",
       "    .dataframe tbody tr th {\n",
       "        vertical-align: top;\n",
       "    }\n",
       "\n",
       "    .dataframe thead th {\n",
       "        text-align: right;\n",
       "    }\n",
       "</style>\n",
       "<table border=\"1\" class=\"dataframe\">\n",
       "  <thead>\n",
       "    <tr style=\"text-align: right;\">\n",
       "      <th></th>\n",
       "      <th></th>\n",
       "      <th>count</th>\n",
       "      <th>mean</th>\n",
       "      <th>std</th>\n",
       "      <th>min</th>\n",
       "      <th>50%</th>\n",
       "      <th>max</th>\n",
       "    </tr>\n",
       "    <tr>\n",
       "      <th>race</th>\n",
       "      <th>sex</th>\n",
       "      <th></th>\n",
       "      <th></th>\n",
       "      <th></th>\n",
       "      <th></th>\n",
       "      <th></th>\n",
       "      <th></th>\n",
       "    </tr>\n",
       "  </thead>\n",
       "  <tbody>\n",
       "    <tr>\n",
       "      <th rowspan=\"2\" valign=\"top\">Amer-Indian-Eskimo</th>\n",
       "      <th>Female</th>\n",
       "      <td>119.0</td>\n",
       "      <td>37.12</td>\n",
       "      <td>13.11</td>\n",
       "      <td>17.0</td>\n",
       "      <td>36.0</td>\n",
       "      <td>80.0</td>\n",
       "    </tr>\n",
       "    <tr>\n",
       "      <th>Male</th>\n",
       "      <td>192.0</td>\n",
       "      <td>37.21</td>\n",
       "      <td>12.05</td>\n",
       "      <td>17.0</td>\n",
       "      <td>35.0</td>\n",
       "      <td>82.0</td>\n",
       "    </tr>\n",
       "    <tr>\n",
       "      <th rowspan=\"2\" valign=\"top\">Asian-Pac-Islander</th>\n",
       "      <th>Female</th>\n",
       "      <td>346.0</td>\n",
       "      <td>35.09</td>\n",
       "      <td>12.30</td>\n",
       "      <td>17.0</td>\n",
       "      <td>33.0</td>\n",
       "      <td>75.0</td>\n",
       "    </tr>\n",
       "    <tr>\n",
       "      <th>Male</th>\n",
       "      <td>693.0</td>\n",
       "      <td>39.07</td>\n",
       "      <td>12.88</td>\n",
       "      <td>18.0</td>\n",
       "      <td>37.0</td>\n",
       "      <td>90.0</td>\n",
       "    </tr>\n",
       "    <tr>\n",
       "      <th rowspan=\"2\" valign=\"top\">Black</th>\n",
       "      <th>Female</th>\n",
       "      <td>1555.0</td>\n",
       "      <td>37.85</td>\n",
       "      <td>12.64</td>\n",
       "      <td>17.0</td>\n",
       "      <td>37.0</td>\n",
       "      <td>90.0</td>\n",
       "    </tr>\n",
       "    <tr>\n",
       "      <th>Male</th>\n",
       "      <td>1569.0</td>\n",
       "      <td>37.68</td>\n",
       "      <td>12.88</td>\n",
       "      <td>17.0</td>\n",
       "      <td>36.0</td>\n",
       "      <td>90.0</td>\n",
       "    </tr>\n",
       "    <tr>\n",
       "      <th rowspan=\"2\" valign=\"top\">Other</th>\n",
       "      <th>Female</th>\n",
       "      <td>109.0</td>\n",
       "      <td>31.68</td>\n",
       "      <td>11.63</td>\n",
       "      <td>17.0</td>\n",
       "      <td>29.0</td>\n",
       "      <td>74.0</td>\n",
       "    </tr>\n",
       "    <tr>\n",
       "      <th>Male</th>\n",
       "      <td>162.0</td>\n",
       "      <td>34.65</td>\n",
       "      <td>11.36</td>\n",
       "      <td>17.0</td>\n",
       "      <td>32.0</td>\n",
       "      <td>77.0</td>\n",
       "    </tr>\n",
       "    <tr>\n",
       "      <th rowspan=\"2\" valign=\"top\">White</th>\n",
       "      <th>Female</th>\n",
       "      <td>8642.0</td>\n",
       "      <td>36.81</td>\n",
       "      <td>14.33</td>\n",
       "      <td>17.0</td>\n",
       "      <td>35.0</td>\n",
       "      <td>90.0</td>\n",
       "    </tr>\n",
       "    <tr>\n",
       "      <th>Male</th>\n",
       "      <td>19174.0</td>\n",
       "      <td>39.65</td>\n",
       "      <td>13.44</td>\n",
       "      <td>17.0</td>\n",
       "      <td>38.0</td>\n",
       "      <td>90.0</td>\n",
       "    </tr>\n",
       "  </tbody>\n",
       "</table>\n",
       "</div>"
      ],
      "text/plain": [
       "                             count   mean    std   min   50%   max\n",
       "race               sex                                            \n",
       "Amer-Indian-Eskimo Female    119.0  37.12  13.11  17.0  36.0  80.0\n",
       "                   Male      192.0  37.21  12.05  17.0  35.0  82.0\n",
       "Asian-Pac-Islander Female    346.0  35.09  12.30  17.0  33.0  75.0\n",
       "                   Male      693.0  39.07  12.88  18.0  37.0  90.0\n",
       "Black              Female   1555.0  37.85  12.64  17.0  37.0  90.0\n",
       "                   Male     1569.0  37.68  12.88  17.0  36.0  90.0\n",
       "Other              Female    109.0  31.68  11.63  17.0  29.0  74.0\n",
       "                   Male      162.0  34.65  11.36  17.0  32.0  77.0\n",
       "White              Female   8642.0  36.81  14.33  17.0  35.0  90.0\n",
       "                   Male    19174.0  39.65  13.44  17.0  38.0  90.0"
      ]
     },
     "execution_count": 67,
     "metadata": {},
     "output_type": "execute_result"
    }
   ],
   "source": [
    "data.groupby(['race','sex'])['age'].describe(percentiles=[])"
   ]
  },
  {
   "cell_type": "code",
   "execution_count": 213,
   "metadata": {},
   "outputs": [
    {
     "name": "stdout",
     "output_type": "stream",
     "text": [
      "Percentage of German citizens : 82\n"
     ]
    }
   ],
   "source": [
    "#Find the maximum age of men of Amer-Indian-Eskimo race.\n",
    "max_age_AmeIndianEskimo_Men=data.groupby(['race','sex'])['age'].describe(percentiles=[]).loc[('Amer-Indian-Eskimo',   'Male')]['max']\n",
    "print(\"Percentage of German citizens : {0}\".format(int(max_age_AmeIndianEskimo_Men)))"
   ]
  },
  {
   "cell_type": "code",
   "execution_count": 214,
   "metadata": {},
   "outputs": [
    {
     "name": "stdout",
     "output_type": "stream",
     "text": [
      "Percentage of German citizens : 82\n"
     ]
    }
   ],
   "source": [
    "max_age_AmeIndianEskimo_Men=data[(data['race']=='Amer-Indian-Eskimo') & (data['sex']=='Male')]['age'].max()\n",
    "print(\"Percentage of German citizens : {0}\".format(int(max_age_AmeIndianEskimo_Men)))"
   ]
  },
  {
   "cell_type": "markdown",
   "metadata": {},
   "source": [
    "**8. Among whom is the proportion of those who earn a lot (>50K) greater: married or single men (*marital-status* feature)? Consider as married those who have a *marital-status* starting with *Married* (Married-civ-spouse, Married-spouse-absent or Married-AF-spouse), the rest are considered bachelors.**"
   ]
  },
  {
   "cell_type": "code",
   "execution_count": 215,
   "metadata": {},
   "outputs": [
    {
     "name": "stdout",
     "output_type": "stream",
     "text": [
      "{'Married-civ-spouse': 'MARRIED', 'Married-spouse-absent': 'MARRIED', 'Married-AF-spouse': 'MARRIED', 'Never-married': 'BACHELOR', 'Divorced': 'BACHELOR', 'Separated': 'BACHELOR', 'Widowed': 'BACHELOR'}\n"
     ]
    }
   ],
   "source": [
    "married=data[data['marital-status'].apply(lambda status:status.upper()[:7]=='MARRIED')]['marital-status'].unique()\n",
    "bachelor=data[data['marital-status'].apply(lambda status:status.upper()[:7]!='MARRIED')]['marital-status'].unique()\n",
    "\n",
    "married_s=pd.Series(['MARRIED']*married.size,index=married)\n",
    "bachelor_s=pd.Series(['BACHELOR']*bachelor.size,index=bachelor)\n",
    "\n",
    "martial_status = dict(pd.concat([married_s,bachelor_s]))\n",
    "\n",
    "print(martial_status)"
   ]
  },
  {
   "cell_type": "code",
   "execution_count": 216,
   "metadata": {},
   "outputs": [
    {
     "name": "stdout",
     "output_type": "stream",
     "text": [
      "MARRIED men who earn a lot (>50K) greater is 89.54%\n",
      "BACHELOR men who earn a lot (>50K) greater is 10.46%\n"
     ]
    }
   ],
   "source": [
    "data_prop =(data[(data['salary']=='>50K') & (data['sex']=='Male')]['marital-status'].map(martial_status).value_counts()/data[(data['salary']=='>50K') & (data['sex']=='Male')]['marital-status'].count())*100\n",
    "for sr in data_prop.index:\n",
    "    print(\"{0} men who earn a lot (>50K) greater is {1:.2f}%\".format(sr,data_prop[sr]))"
   ]
  },
  {
   "cell_type": "code",
   "execution_count": 217,
   "metadata": {},
   "outputs": [
    {
     "data": {
      "text/plain": [
       "MARRIED     5965\n",
       "BACHELOR     697\n",
       "Name: marital-status, dtype: int64"
      ]
     },
     "execution_count": 217,
     "metadata": {},
     "output_type": "execute_result"
    }
   ],
   "source": [
    "data[(data['salary']=='>50K') & (data['sex']=='Male')]['marital-status'].map(martial_status).value_counts()"
   ]
  },
  {
   "cell_type": "markdown",
   "metadata": {},
   "source": [
    "**9. What is the maximum number of hours a person works per week (*hours-per-week* feature)? How many people work such a number of hours, and what is the percentage of those who earn a lot (>50K) among them?**"
   ]
  },
  {
   "cell_type": "code",
   "execution_count": 157,
   "metadata": {},
   "outputs": [
    {
     "name": "stdout",
     "output_type": "stream",
     "text": [
      "Maximum number of hours a person works per week : 99\n",
      "People work such a number of hours : 85\n",
      "Percentage of those who earn a lot (>50K) among them : 29.41\n"
     ]
    }
   ],
   "source": [
    "max_hr_per_week = data['hours-per-week'].max()\n",
    "no_people_max_hr_week = data[data['hours-per-week']==max_hr_per_week]['hours-per-week'].count()\n",
    "no_people_max_hr_week_sal_grtr50K = data[data['hours-per-week']==max_hr_per_week]['salary'].value_counts(normalize=True)['>50K'] * 100\n",
    "print(\"Maximum number of hours a person works per week : {0}\".format(max_hr_per_week))\n",
    "print(\"People work such a number of hours : {0}\".format(no_people_max_hr_week))\n",
    "print(\"Percentage of those who earn a lot (>50K) among them : {0:.2f}\".format(no_people_max_hr_week_sal_grtr50K))"
   ]
  },
  {
   "cell_type": "markdown",
   "metadata": {},
   "source": [
    "**10. Count the average time of work (*hours-per-week*) for those who earn a little and a lot (*salary*) for each country (*native-country*). What will these be for Japan?**"
   ]
  },
  {
   "cell_type": "code",
   "execution_count": 158,
   "metadata": {},
   "outputs": [
    {
     "data": {
      "text/html": [
       "<div>\n",
       "<style scoped>\n",
       "    .dataframe tbody tr th:only-of-type {\n",
       "        vertical-align: middle;\n",
       "    }\n",
       "\n",
       "    .dataframe tbody tr th {\n",
       "        vertical-align: top;\n",
       "    }\n",
       "\n",
       "    .dataframe thead th {\n",
       "        text-align: right;\n",
       "    }\n",
       "</style>\n",
       "<table border=\"1\" class=\"dataframe\">\n",
       "  <thead>\n",
       "    <tr style=\"text-align: right;\">\n",
       "      <th>native-country</th>\n",
       "      <th>?</th>\n",
       "      <th>Cambodia</th>\n",
       "      <th>Canada</th>\n",
       "      <th>China</th>\n",
       "      <th>Columbia</th>\n",
       "      <th>Cuba</th>\n",
       "      <th>Dominican-Republic</th>\n",
       "      <th>Ecuador</th>\n",
       "      <th>El-Salvador</th>\n",
       "      <th>England</th>\n",
       "      <th>France</th>\n",
       "      <th>Germany</th>\n",
       "      <th>Greece</th>\n",
       "      <th>Guatemala</th>\n",
       "      <th>Haiti</th>\n",
       "      <th>Holand-Netherlands</th>\n",
       "      <th>Honduras</th>\n",
       "      <th>Hong</th>\n",
       "      <th>Hungary</th>\n",
       "      <th>India</th>\n",
       "      <th>Iran</th>\n",
       "      <th>Ireland</th>\n",
       "      <th>Italy</th>\n",
       "      <th>Jamaica</th>\n",
       "      <th>Japan</th>\n",
       "      <th>Laos</th>\n",
       "      <th>Mexico</th>\n",
       "      <th>Nicaragua</th>\n",
       "      <th>Outlying-US(Guam-USVI-etc)</th>\n",
       "      <th>Peru</th>\n",
       "      <th>Philippines</th>\n",
       "      <th>Poland</th>\n",
       "      <th>Portugal</th>\n",
       "      <th>Puerto-Rico</th>\n",
       "      <th>Scotland</th>\n",
       "      <th>South</th>\n",
       "      <th>Taiwan</th>\n",
       "      <th>Thailand</th>\n",
       "      <th>Trinadad&amp;Tobago</th>\n",
       "      <th>United-States</th>\n",
       "      <th>Vietnam</th>\n",
       "      <th>Yugoslavia</th>\n",
       "    </tr>\n",
       "    <tr>\n",
       "      <th>salary</th>\n",
       "      <th></th>\n",
       "      <th></th>\n",
       "      <th></th>\n",
       "      <th></th>\n",
       "      <th></th>\n",
       "      <th></th>\n",
       "      <th></th>\n",
       "      <th></th>\n",
       "      <th></th>\n",
       "      <th></th>\n",
       "      <th></th>\n",
       "      <th></th>\n",
       "      <th></th>\n",
       "      <th></th>\n",
       "      <th></th>\n",
       "      <th></th>\n",
       "      <th></th>\n",
       "      <th></th>\n",
       "      <th></th>\n",
       "      <th></th>\n",
       "      <th></th>\n",
       "      <th></th>\n",
       "      <th></th>\n",
       "      <th></th>\n",
       "      <th></th>\n",
       "      <th></th>\n",
       "      <th></th>\n",
       "      <th></th>\n",
       "      <th></th>\n",
       "      <th></th>\n",
       "      <th></th>\n",
       "      <th></th>\n",
       "      <th></th>\n",
       "      <th></th>\n",
       "      <th></th>\n",
       "      <th></th>\n",
       "      <th></th>\n",
       "      <th></th>\n",
       "      <th></th>\n",
       "      <th></th>\n",
       "      <th></th>\n",
       "      <th></th>\n",
       "    </tr>\n",
       "  </thead>\n",
       "  <tbody>\n",
       "    <tr>\n",
       "      <th>&lt;=50K</th>\n",
       "      <td>40.16</td>\n",
       "      <td>41.42</td>\n",
       "      <td>37.91</td>\n",
       "      <td>37.38</td>\n",
       "      <td>38.68</td>\n",
       "      <td>37.99</td>\n",
       "      <td>42.34</td>\n",
       "      <td>38.04</td>\n",
       "      <td>36.03</td>\n",
       "      <td>40.48</td>\n",
       "      <td>41.06</td>\n",
       "      <td>39.14</td>\n",
       "      <td>41.81</td>\n",
       "      <td>39.36</td>\n",
       "      <td>36.33</td>\n",
       "      <td>40.0</td>\n",
       "      <td>34.33</td>\n",
       "      <td>39.14</td>\n",
       "      <td>31.3</td>\n",
       "      <td>38.23</td>\n",
       "      <td>41.44</td>\n",
       "      <td>40.95</td>\n",
       "      <td>39.62</td>\n",
       "      <td>38.24</td>\n",
       "      <td>41.00</td>\n",
       "      <td>40.38</td>\n",
       "      <td>40.00</td>\n",
       "      <td>36.09</td>\n",
       "      <td>41.86</td>\n",
       "      <td>35.07</td>\n",
       "      <td>38.07</td>\n",
       "      <td>38.17</td>\n",
       "      <td>41.94</td>\n",
       "      <td>38.47</td>\n",
       "      <td>39.44</td>\n",
       "      <td>40.16</td>\n",
       "      <td>33.77</td>\n",
       "      <td>42.87</td>\n",
       "      <td>37.06</td>\n",
       "      <td>38.80</td>\n",
       "      <td>37.19</td>\n",
       "      <td>41.6</td>\n",
       "    </tr>\n",
       "    <tr>\n",
       "      <th>&gt;50K</th>\n",
       "      <td>45.55</td>\n",
       "      <td>40.00</td>\n",
       "      <td>45.64</td>\n",
       "      <td>38.90</td>\n",
       "      <td>50.00</td>\n",
       "      <td>42.44</td>\n",
       "      <td>47.00</td>\n",
       "      <td>48.75</td>\n",
       "      <td>45.00</td>\n",
       "      <td>44.53</td>\n",
       "      <td>50.75</td>\n",
       "      <td>44.98</td>\n",
       "      <td>50.62</td>\n",
       "      <td>36.67</td>\n",
       "      <td>42.75</td>\n",
       "      <td>NaN</td>\n",
       "      <td>60.00</td>\n",
       "      <td>45.00</td>\n",
       "      <td>50.0</td>\n",
       "      <td>46.48</td>\n",
       "      <td>47.50</td>\n",
       "      <td>48.00</td>\n",
       "      <td>45.40</td>\n",
       "      <td>41.10</td>\n",
       "      <td>47.96</td>\n",
       "      <td>40.00</td>\n",
       "      <td>46.58</td>\n",
       "      <td>37.50</td>\n",
       "      <td>NaN</td>\n",
       "      <td>40.00</td>\n",
       "      <td>43.03</td>\n",
       "      <td>39.00</td>\n",
       "      <td>41.50</td>\n",
       "      <td>39.42</td>\n",
       "      <td>46.67</td>\n",
       "      <td>51.44</td>\n",
       "      <td>46.80</td>\n",
       "      <td>58.33</td>\n",
       "      <td>40.00</td>\n",
       "      <td>45.51</td>\n",
       "      <td>39.20</td>\n",
       "      <td>49.5</td>\n",
       "    </tr>\n",
       "  </tbody>\n",
       "</table>\n",
       "</div>"
      ],
      "text/plain": [
       "native-country      ?  Cambodia  Canada  China  Columbia   Cuba  \\\n",
       "salary                                                            \n",
       "<=50K           40.16     41.42   37.91  37.38     38.68  37.99   \n",
       ">50K            45.55     40.00   45.64  38.90     50.00  42.44   \n",
       "\n",
       "native-country  Dominican-Republic  Ecuador  El-Salvador  England  France  \\\n",
       "salary                                                                      \n",
       "<=50K                        42.34    38.04        36.03    40.48   41.06   \n",
       ">50K                         47.00    48.75        45.00    44.53   50.75   \n",
       "\n",
       "native-country  Germany  Greece  Guatemala  Haiti  Holand-Netherlands  \\\n",
       "salary                                                                  \n",
       "<=50K             39.14   41.81      39.36  36.33                40.0   \n",
       ">50K              44.98   50.62      36.67  42.75                 NaN   \n",
       "\n",
       "native-country  Honduras   Hong  Hungary  India   Iran  Ireland  Italy  \\\n",
       "salary                                                                   \n",
       "<=50K              34.33  39.14     31.3  38.23  41.44    40.95  39.62   \n",
       ">50K               60.00  45.00     50.0  46.48  47.50    48.00  45.40   \n",
       "\n",
       "native-country  Jamaica  Japan   Laos  Mexico  Nicaragua  \\\n",
       "salary                                                     \n",
       "<=50K             38.24  41.00  40.38   40.00      36.09   \n",
       ">50K              41.10  47.96  40.00   46.58      37.50   \n",
       "\n",
       "native-country  Outlying-US(Guam-USVI-etc)   Peru  Philippines  Poland  \\\n",
       "salary                                                                   \n",
       "<=50K                                41.86  35.07        38.07   38.17   \n",
       ">50K                                   NaN  40.00        43.03   39.00   \n",
       "\n",
       "native-country  Portugal  Puerto-Rico  Scotland  South  Taiwan  Thailand  \\\n",
       "salary                                                                     \n",
       "<=50K              41.94        38.47     39.44  40.16   33.77     42.87   \n",
       ">50K               41.50        39.42     46.67  51.44   46.80     58.33   \n",
       "\n",
       "native-country  Trinadad&Tobago  United-States  Vietnam  Yugoslavia  \n",
       "salary                                                               \n",
       "<=50K                     37.06          38.80    37.19        41.6  \n",
       ">50K                      40.00          45.51    39.20        49.5  "
      ]
     },
     "execution_count": 158,
     "metadata": {},
     "output_type": "execute_result"
    }
   ],
   "source": [
    "pd.crosstab(data['native-country'], data['salary'], \n",
    "           values=data['hours-per-week'], aggfunc=np.mean).T"
   ]
  },
  {
   "cell_type": "code",
   "execution_count": 154,
   "metadata": {},
   "outputs": [
    {
     "data": {
      "text/plain": [
       "salary\n",
       "<=50K    41.00\n",
       ">50K     47.96\n",
       "Name: hours-per-week, dtype: float64"
      ]
     },
     "execution_count": 154,
     "metadata": {},
     "output_type": "execute_result"
    }
   ],
   "source": [
    "data.groupby(['native-country','salary'])['hours-per-week'].mean()['Japan']"
   ]
  }
 ],
 "metadata": {
  "anaconda-cloud": {},
  "hide_input": false,
  "kernelspec": {
   "display_name": "Python 3",
   "language": "python",
   "name": "python3"
  },
  "language_info": {
   "codemirror_mode": {
    "name": "ipython",
    "version": 3
   },
   "file_extension": ".py",
   "mimetype": "text/x-python",
   "name": "python",
   "nbconvert_exporter": "python",
   "pygments_lexer": "ipython3",
   "version": "3.7.3"
  },
  "toc": {
   "base_numbering": 1,
   "nav_menu": {},
   "number_sections": true,
   "sideBar": true,
   "skip_h1_title": false,
   "title_cell": "Table of Contents",
   "title_sidebar": "Contents",
   "toc_cell": false,
   "toc_position": {},
   "toc_section_display": true,
   "toc_window_display": false
  },
  "varInspector": {
   "cols": {
    "lenName": 16,
    "lenType": 16,
    "lenVar": 40
   },
   "kernels_config": {
    "python": {
     "delete_cmd_postfix": "",
     "delete_cmd_prefix": "del ",
     "library": "var_list.py",
     "varRefreshCmd": "print(var_dic_list())"
    },
    "r": {
     "delete_cmd_postfix": ") ",
     "delete_cmd_prefix": "rm(",
     "library": "var_list.r",
     "varRefreshCmd": "cat(var_dic_list()) "
    }
   },
   "types_to_exclude": [
    "module",
    "function",
    "builtin_function_or_method",
    "instance",
    "_Feature"
   ],
   "window_display": false
  }
 },
 "nbformat": 4,
 "nbformat_minor": 1
}
